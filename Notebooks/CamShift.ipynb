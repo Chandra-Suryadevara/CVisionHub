{
 "cells": [
  {
   "cell_type": "code",
   "execution_count": 1,
   "id": "0316d96b-1c18-4da9-a8da-a8fffabf64d4",
   "metadata": {},
   "outputs": [],
   "source": [
    "import cv2\n",
    "import numpy as np\n"
   ]
  },
  {
   "cell_type": "code",
   "execution_count": null,
   "id": "05f82820-931f-48ed-86b7-fe4d68fe9b76",
   "metadata": {},
   "outputs": [],
   "source": [
    "cap = cv2.VideoCapture(0)\n",
    "\n",
    "ret,frame=cap.read()\n",
    "\n",
    "face_cascade = cv2.CascadeClassifier('Data/haarcascades/haarcascade_frontalface_default.xml')\n",
    "\n",
    "face_rects = face_cascade.detectMultiScale(frame)\n",
    "\n",
    "(face_x , face_y, w,h)=tuple(face_rects[0])\n",
    "\n",
    "track_window = (face_x , face_y, w,h)\n",
    "\n",
    "roi = frame[face_y:face_y+h,face_x:face_x+w]\n",
    "\n",
    "hsv_roi = cv2.cvtColor(roi,cv2.COLOR_BGR2HSV)\n",
    "\n",
    "roi_hist = cv2.calcHist([hsv_roi],[0],None,[256],[0,180])\n",
    "\n",
    "cv2.normalize(roi_hist,roi_hist,0,255,cv2.NORM_MINMAX)\n",
    "\n",
    "term_crit = (cv2.TERM_CRITERIA_EPS | cv2.TermCriteria_COUNT,10,1)\n",
    "\n",
    "\n",
    "\n",
    "\n",
    "while True:\n",
    "\n",
    "    ret,frame=cap.read()\n",
    "\n",
    "    if ret:\n",
    "        hsv = cv2.cvtColor(frame,cv2.COLOR_BGR2HSV)\n",
    "\n",
    "        dst = cv2.calcBackProject([hsv],[0],roi_hist,[0,180],1)\n",
    "                    \n",
    "        \n",
    "        ret, track_window = cv2.CamShift(dst, track_window,term_crit)\n",
    "\n",
    "        pts=cv2.boxPoints(ret)\n",
    "\n",
    "        pts=np.int0(pts)\n",
    "        img2=cv2.polylines(frame,[pts],True,(0,0,255),5)\n",
    "\n",
    "        \n",
    "        cv2.imshow('Image',img2)\n",
    "        k = cv2.waitKey(1)\n",
    "        if k ==27:\n",
    "            break\n",
    "\n",
    "cap.release()\n",
    "cv2.destroyAllWindows()\n",
    "    "
   ]
  },
  {
   "cell_type": "code",
   "execution_count": null,
   "id": "0a4c7bf1-4d12-469a-bac2-f27b44bd9cd3",
   "metadata": {},
   "outputs": [],
   "source": []
  }
 ],
 "metadata": {
  "kernelspec": {
   "display_name": "Python 3 (ipykernel)",
   "language": "python",
   "name": "python3"
  },
  "language_info": {
   "codemirror_mode": {
    "name": "ipython",
    "version": 3
   },
   "file_extension": ".py",
   "mimetype": "text/x-python",
   "name": "python",
   "nbconvert_exporter": "python",
   "pygments_lexer": "ipython3",
   "version": "3.12.4"
  }
 },
 "nbformat": 4,
 "nbformat_minor": 5
}
