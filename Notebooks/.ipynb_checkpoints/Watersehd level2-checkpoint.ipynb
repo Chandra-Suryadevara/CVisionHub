{
 "cells": [
  {
   "cell_type": "code",
   "execution_count": 28,
   "id": "820878a8-67d4-452d-8b4b-1cf235d194f6",
   "metadata": {},
   "outputs": [],
   "source": [
    "import cv2\n",
    "import numpy as np\n",
    "import matplotlib.pyplot as plt\n",
    "%matplotlib inline"
   ]
  },
  {
   "cell_type": "code",
   "execution_count": 29,
   "id": "7f252c60-889e-4661-90e4-e3607961ce1a",
   "metadata": {},
   "outputs": [],
   "source": [
    "road = cv2.imread('Data/road_image.jpg')"
   ]
  },
  {
   "cell_type": "code",
   "execution_count": 30,
   "id": "4f5b29f6-bd87-40b8-916c-37c5c2abbee4",
   "metadata": {},
   "outputs": [],
   "source": [
    "road_copy = np.copy(road)"
   ]
  },
  {
   "cell_type": "code",
   "execution_count": 31,
   "id": "56c6ad73-a360-4739-ab8b-954cfe26051d",
   "metadata": {},
   "outputs": [
    {
     "data": {
      "text/plain": [
       "(600, 800, 3)"
      ]
     },
     "execution_count": 31,
     "metadata": {},
     "output_type": "execute_result"
    }
   ],
   "source": [
    "road_copy.shape"
   ]
  },
  {
   "cell_type": "code",
   "execution_count": 32,
   "id": "742b8365-20a5-445f-a233-478c27bcaba3",
   "metadata": {},
   "outputs": [],
   "source": [
    "marker_image = np.zeros(road.shape[:2],dtype=np.int32)"
   ]
  },
  {
   "cell_type": "code",
   "execution_count": 43,
   "id": "147a4bc6-032f-4fff-b639-d9858dc0a171",
   "metadata": {},
   "outputs": [],
   "source": [
    "segments = np.zeros(road.shape,dtype=np.uint8)"
   ]
  },
  {
   "cell_type": "code",
   "execution_count": 44,
   "id": "1f856004-9a11-4d49-9534-25984be155ee",
   "metadata": {},
   "outputs": [],
   "source": [
    "from matplotlib import cm"
   ]
  },
  {
   "cell_type": "code",
   "execution_count": 45,
   "id": "3f137bad-dd41-4be8-86ab-353df47bed54",
   "metadata": {},
   "outputs": [
    {
     "data": {
      "text/plain": [
       "(0.12156862745098039, 0.4666666666666667, 0.7058823529411765, 1.0)"
      ]
     },
     "execution_count": 45,
     "metadata": {},
     "output_type": "execute_result"
    }
   ],
   "source": [
    "cm.tab10(0)"
   ]
  },
  {
   "cell_type": "code",
   "execution_count": 46,
   "id": "fd6be4de-4705-4f8e-8a23-f7a5b554790a",
   "metadata": {},
   "outputs": [
    {
     "data": {
      "text/plain": [
       "(31.0, 119.0, 180.0)"
      ]
     },
     "execution_count": 46,
     "metadata": {},
     "output_type": "execute_result"
    }
   ],
   "source": [
    "tuple(np.array(cm.tab10(0)[:3])*255)"
   ]
  },
  {
   "cell_type": "code",
   "execution_count": 47,
   "id": "4e26d8cb-4ddf-4256-a47a-9a401e9d52a7",
   "metadata": {},
   "outputs": [],
   "source": [
    "def create_rgb(i):\n",
    "    return tuple(np.array(cm.tab10(i)[:3])*255)"
   ]
  },
  {
   "cell_type": "code",
   "execution_count": 48,
   "id": "e9a4f992-6d3d-48e2-b9a0-00ae972c91ef",
   "metadata": {},
   "outputs": [],
   "source": [
    "#global var"
   ]
  },
  {
   "cell_type": "code",
   "execution_count": 49,
   "id": "2037eff5-56dd-4e6c-95d8-aa623bdd2005",
   "metadata": {},
   "outputs": [],
   "source": [
    "current_marker = 1\n",
    "n_markers =9\n",
    "marks_updated = False\n",
    "colors=[]\n",
    "for i in range(10):\n",
    "    colors.append(create_rgb(i))"
   ]
  },
  {
   "cell_type": "code",
   "execution_count": 50,
   "id": "0582dfb2-729b-4d1a-a336-d32c596a7138",
   "metadata": {},
   "outputs": [],
   "source": [
    "def mouse_callback(event,x,y,flags,param):\n",
    "    global marks_updated\n",
    "\n",
    "    if event ==cv2.EVENT_LBUTTONDOWN:\n",
    "        cv2.circle(marker_image,(x,y),10,(current_marker),-1)\n",
    "    \n",
    "        cv2.circle(road_copy,(x,y),10,colors[current_marker],-1)\n",
    "    \n",
    "    \n",
    "        marks_updated = True"
   ]
  },
  {
   "cell_type": "code",
   "execution_count": 52,
   "id": "88a914d5-4cd4-4a5b-bada-5a2cc72c800f",
   "metadata": {},
   "outputs": [
    {
     "ename": "NameError",
     "evalue": "name 'marker_iamge_copy' is not defined",
     "output_type": "error",
     "traceback": [
      "\u001b[0;31m---------------------------------------------------------------------------\u001b[0m",
      "\u001b[0;31mNameError\u001b[0m                                 Traceback (most recent call last)",
      "Cell \u001b[0;32mIn[52], line 28\u001b[0m\n\u001b[1;32m     24\u001b[0m \u001b[38;5;28;01mif\u001b[39;00m marks_updated:\n\u001b[1;32m     27\u001b[0m     marker_image_copy \u001b[38;5;241m=\u001b[39m marker_image\u001b[38;5;241m.\u001b[39mcopy()\n\u001b[0;32m---> 28\u001b[0m     cv2\u001b[38;5;241m.\u001b[39mwatershed(road,\u001b[43mmarker_iamge_copy\u001b[49m)\n\u001b[1;32m     29\u001b[0m     segments \u001b[38;5;241m=\u001b[39m np\u001b[38;5;241m.\u001b[39mzeros(road\u001b[38;5;241m.\u001b[39mshape , dtype\u001b[38;5;241m=\u001b[39muint8)\n\u001b[1;32m     31\u001b[0m     \u001b[38;5;28;01mfor\u001b[39;00m color_ind \u001b[38;5;129;01min\u001b[39;00m \u001b[38;5;28mrange\u001b[39m(n_markers):\n",
      "\u001b[0;31mNameError\u001b[0m: name 'marker_iamge_copy' is not defined"
     ]
    }
   ],
   "source": [
    "cv2.namedWindow('Road Image')\n",
    "cv2.setMouseCallback('Road Image' , mouse_callback)\n",
    "\n",
    "\n",
    "while True:\n",
    "    cv2.imshow('Watersehd Segments',segments)\n",
    "    cv2.imshow('Road Image', road_copy)\n",
    "\n",
    "\n",
    "\n",
    "    k = cv2.waitKey(1)\n",
    "\n",
    "    if k == 27:\n",
    "        break\n",
    "\n",
    "    elif k == ord('c'):\n",
    "        road_copy= road.copy()\n",
    "        marker_image = np.zeros(road.shape[:2],dtype=np.int32)\n",
    "        segments = np.zeros(road.shape,dtype=np.uint8)\n",
    "\n",
    "    elif k  > 0 and chr(k).isdigit():\n",
    "        current_marker = int(chr(k))\n",
    "\n",
    "    if marks_updated:\n",
    "\n",
    "\n",
    "        marker_image_copy = marker_image.copy()\n",
    "        cv2.watershed(road,marker_image_copy)\n",
    "        segments = np.zeros(road.shape , dtype=uint8)\n",
    "\n",
    "        for color_ind in range(n_markers):\n",
    "            segments[marker_iamge_copy == (color_ind)] = colors[color_ind]\n",
    "            \n",
    "\n",
    "\n",
    "cv2.destroyAllWindows"
   ]
  },
  {
   "cell_type": "code",
   "execution_count": null,
   "id": "2303bc5a-3f04-4680-a4cf-4b8bcf2cfa69",
   "metadata": {},
   "outputs": [],
   "source": []
  },
  {
   "cell_type": "code",
   "execution_count": null,
   "id": "791d0eae-f244-4979-8cd0-a98239919467",
   "metadata": {},
   "outputs": [],
   "source": []
  },
  {
   "cell_type": "code",
   "execution_count": null,
   "id": "5963d7a0-d3c3-4a3d-9f02-787977b78cf8",
   "metadata": {},
   "outputs": [],
   "source": []
  },
  {
   "cell_type": "code",
   "execution_count": null,
   "id": "473484f2-b429-4843-9027-160a2b1fb886",
   "metadata": {},
   "outputs": [],
   "source": []
  },
  {
   "cell_type": "code",
   "execution_count": null,
   "id": "5830dc9c-3c0d-4971-bb03-04c64a692a6a",
   "metadata": {},
   "outputs": [],
   "source": []
  },
  {
   "cell_type": "code",
   "execution_count": null,
   "id": "f5c940e9-76d6-49e9-b1dc-38d1bf974dec",
   "metadata": {},
   "outputs": [],
   "source": []
  },
  {
   "cell_type": "code",
   "execution_count": null,
   "id": "c97b93c1-b67a-40a7-8cbb-619d055059f6",
   "metadata": {},
   "outputs": [],
   "source": []
  },
  {
   "cell_type": "code",
   "execution_count": null,
   "id": "073e4b2a-9b23-451c-9971-9d4174f5ce0b",
   "metadata": {},
   "outputs": [],
   "source": []
  },
  {
   "cell_type": "code",
   "execution_count": null,
   "id": "844f5278-4076-4673-8566-66ab57f016c2",
   "metadata": {},
   "outputs": [],
   "source": []
  },
  {
   "cell_type": "code",
   "execution_count": null,
   "id": "d561a982-eea0-4496-8f4c-3fb3e1a30075",
   "metadata": {},
   "outputs": [],
   "source": []
  },
  {
   "cell_type": "code",
   "execution_count": null,
   "id": "22dd77ce-58f9-438c-87c9-476453524dc8",
   "metadata": {},
   "outputs": [],
   "source": []
  },
  {
   "cell_type": "code",
   "execution_count": null,
   "id": "5bf11580-3b72-4715-befe-17883dd1c83b",
   "metadata": {},
   "outputs": [],
   "source": []
  },
  {
   "cell_type": "code",
   "execution_count": null,
   "id": "8b92f667-2ab3-456f-82bb-5228f347e775",
   "metadata": {},
   "outputs": [],
   "source": []
  },
  {
   "cell_type": "code",
   "execution_count": null,
   "id": "b4289d67-fb6f-4f84-8d30-2694e8cd030f",
   "metadata": {},
   "outputs": [],
   "source": []
  },
  {
   "cell_type": "code",
   "execution_count": null,
   "id": "5b5e6de0-ed66-4627-8e47-c76184e11957",
   "metadata": {},
   "outputs": [],
   "source": []
  }
 ],
 "metadata": {
  "kernelspec": {
   "display_name": "Python 3 (ipykernel)",
   "language": "python",
   "name": "python3"
  },
  "language_info": {
   "codemirror_mode": {
    "name": "ipython",
    "version": 3
   },
   "file_extension": ".py",
   "mimetype": "text/x-python",
   "name": "python",
   "nbconvert_exporter": "python",
   "pygments_lexer": "ipython3",
   "version": "3.11.6"
  }
 },
 "nbformat": 4,
 "nbformat_minor": 5
}
