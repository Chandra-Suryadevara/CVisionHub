{
 "cells": [
  {
   "cell_type": "code",
   "execution_count": 1,
   "id": "52c59d91-c808-43df-929a-e1d6d90d285b",
   "metadata": {},
   "outputs": [],
   "source": [
    "import numpy as np \n",
    "import cv2\n"
   ]
  },
  {
   "cell_type": "code",
   "execution_count": 2,
   "id": "b9d55687-9acc-4443-850c-e9f3a0b4d999",
   "metadata": {},
   "outputs": [],
   "source": [
    "corner_track_param = dict(maxCorners =10,qualityLevel=0.3,minDistance=7,blockSize=7)"
   ]
  },
  {
   "cell_type": "code",
   "execution_count": 3,
   "id": "82118589-21bc-432b-8f7d-a88f611c1ce2",
   "metadata": {},
   "outputs": [],
   "source": [
    "lk_param=dict(winSize=(200,200),maxLevel=2, criteria= (cv2.TERM_CRITERIA_EPS | cv2.TERM_CRITERIA_COUNT,10,0.03))"
   ]
  },
  {
   "cell_type": "code",
   "execution_count": 6,
   "id": "e57d1dd9-c2ae-4887-a5e5-d1dbf3d21c43",
   "metadata": {},
   "outputs": [],
   "source": [
    "cap =cv2.VideoCapture(0)\n",
    "ret,prev_frame=cap.read()\n",
    "prev_gray=cv2.cvtColor(prev_frame,cv2.COLOR_BGR2GRAY)\n",
    "\n",
    "#points to track\n",
    "\n",
    "prevPts = cv2.goodFeaturesToTrack(prev_gray,mask=None,**corner_track_param)\n",
    "\n",
    "mask = np.zeros_like(prev_frame)\n",
    "\n",
    "while True:\n",
    "    ret, frame=cap.read()\n",
    "    frame_gray=cv2.cvtColor(frame,cv2.COLOR_BGR2GRAY)\n",
    "\n",
    "    nextPts,status,err=cv2.calcOpticalFlowPyrLK(prev_gray,frame_gray,prevPts,None,**lk_param)\n",
    "\n",
    "    good_new = nextPts[status==1]\n",
    "    good_prev=prevPts[status==1]\n",
    "\n",
    "    for i, (new,prev) in enumerate(zip(good_new,good_prev)):\n",
    "\n",
    "        x_new, y_new = new.ravel()\n",
    "        x_prev,y_prev = prev.ravel()\n",
    "        x_new, y_new = int(x_new), int(y_new)\n",
    "        x_prev, y_prev = int(x_prev), int(y_prev)\n",
    "\n",
    "        mask = cv2.line(mask,(x_new,y_new),(x_prev,y_prev),(0,255,0),3)\n",
    "        frame= cv2.circle(frame,(x_new,y_new),8,(0,255,0),-1)\n",
    "    \n",
    "    img = cv2.add(frame,mask)\n",
    "    cv2.imshow('tracking', img)\n",
    "    k = cv2.waitKey(1) & 0xFF\n",
    "    if k ==27:\n",
    "        break\n",
    "\n",
    "    prev_gray=frame_gray.copy()\n",
    "    prevPts = good_new.reshape(-1,1,2)\n",
    "\n",
    "cap.release()\n",
    "cv2.destroyAllWindows()"
   ]
  },
  {
   "cell_type": "code",
   "execution_count": null,
   "id": "dd0c87a4-b657-4e30-8337-df2a67c2e2f5",
   "metadata": {},
   "outputs": [],
   "source": []
  }
 ],
 "metadata": {
  "kernelspec": {
   "display_name": "Python 3 (ipykernel)",
   "language": "python",
   "name": "python3"
  },
  "language_info": {
   "codemirror_mode": {
    "name": "ipython",
    "version": 3
   },
   "file_extension": ".py",
   "mimetype": "text/x-python",
   "name": "python",
   "nbconvert_exporter": "python",
   "pygments_lexer": "ipython3",
   "version": "3.12.4"
  }
 },
 "nbformat": 4,
 "nbformat_minor": 5
}
