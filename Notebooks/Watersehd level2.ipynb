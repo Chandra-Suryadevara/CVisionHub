{
 "cells": [
  {
   "cell_type": "code",
   "execution_count": 56,
   "id": "820878a8-67d4-452d-8b4b-1cf235d194f6",
   "metadata": {},
   "outputs": [],
   "source": [
    "import cv2\n",
    "import numpy as np\n",
    "import matplotlib.pyplot as plt\n",
    "%matplotlib inline"
   ]
  },
  {
   "cell_type": "code",
   "execution_count": 57,
   "id": "7f252c60-889e-4661-90e4-e3607961ce1a",
   "metadata": {},
   "outputs": [],
   "source": [
    "road = cv2.imread('Data/road_image.jpg')"
   ]
  },
  {
   "cell_type": "code",
   "execution_count": 58,
   "id": "4f5b29f6-bd87-40b8-916c-37c5c2abbee4",
   "metadata": {},
   "outputs": [],
   "source": [
    "road_copy = np.copy(road)"
   ]
  },
  {
   "cell_type": "code",
   "execution_count": 59,
   "id": "56c6ad73-a360-4739-ab8b-954cfe26051d",
   "metadata": {},
   "outputs": [
    {
     "data": {
      "text/plain": [
       "(600, 800, 3)"
      ]
     },
     "execution_count": 59,
     "metadata": {},
     "output_type": "execute_result"
    }
   ],
   "source": [
    "road_copy.shape"
   ]
  },
  {
   "cell_type": "code",
   "execution_count": 60,
   "id": "742b8365-20a5-445f-a233-478c27bcaba3",
   "metadata": {},
   "outputs": [],
   "source": [
    "marker_image = np.zeros(road.shape[:2],dtype=np.int32)"
   ]
  },
  {
   "cell_type": "code",
   "execution_count": 61,
   "id": "147a4bc6-032f-4fff-b639-d9858dc0a171",
   "metadata": {},
   "outputs": [],
   "source": [
    "segments = np.zeros(road.shape,dtype=np.uint8)"
   ]
  },
  {
   "cell_type": "code",
   "execution_count": 62,
   "id": "1f856004-9a11-4d49-9534-25984be155ee",
   "metadata": {},
   "outputs": [],
   "source": [
    "from matplotlib import cm"
   ]
  },
  {
   "cell_type": "code",
   "execution_count": 63,
   "id": "3f137bad-dd41-4be8-86ab-353df47bed54",
   "metadata": {},
   "outputs": [
    {
     "data": {
      "text/plain": [
       "(0.12156862745098039, 0.4666666666666667, 0.7058823529411765, 1.0)"
      ]
     },
     "execution_count": 63,
     "metadata": {},
     "output_type": "execute_result"
    }
   ],
   "source": [
    "cm.tab10(0)"
   ]
  },
  {
   "cell_type": "code",
   "execution_count": 64,
   "id": "fd6be4de-4705-4f8e-8a23-f7a5b554790a",
   "metadata": {},
   "outputs": [
    {
     "data": {
      "text/plain": [
       "(31.0, 119.0, 180.0)"
      ]
     },
     "execution_count": 64,
     "metadata": {},
     "output_type": "execute_result"
    }
   ],
   "source": [
    "tuple(np.array(cm.tab10(0)[:3])*255)"
   ]
  },
  {
   "cell_type": "code",
   "execution_count": 65,
   "id": "4e26d8cb-4ddf-4256-a47a-9a401e9d52a7",
   "metadata": {},
   "outputs": [],
   "source": [
    "def create_rgb(i):\n",
    "    return tuple(np.array(cm.tab10(i)[:3])*255)"
   ]
  },
  {
   "cell_type": "code",
   "execution_count": 66,
   "id": "e9a4f992-6d3d-48e2-b9a0-00ae972c91ef",
   "metadata": {},
   "outputs": [],
   "source": [
    "#global var"
   ]
  },
  {
   "cell_type": "code",
   "execution_count": 67,
   "id": "2037eff5-56dd-4e6c-95d8-aa623bdd2005",
   "metadata": {},
   "outputs": [],
   "source": [
    "current_marker = 1\n",
    "n_markers =9\n",
    "marks_updated = False\n",
    "colors=[]\n",
    "for i in range(10):\n",
    "    colors.append(create_rgb(i))"
   ]
  },
  {
   "cell_type": "code",
   "execution_count": 68,
   "id": "0582dfb2-729b-4d1a-a336-d32c596a7138",
   "metadata": {},
   "outputs": [],
   "source": [
    "def mouse_callback(event,x,y,flags,param):\n",
    "    global marks_updated\n",
    "\n",
    "    if event ==cv2.EVENT_LBUTTONDOWN:\n",
    "        cv2.circle(marker_image,(x,y),10,(current_marker),-1)\n",
    "    \n",
    "        cv2.circle(road_copy,(x,y),10,colors[current_marker],-1)\n",
    "    \n",
    "    \n",
    "        marks_updated = True"
   ]
  },
  {
   "cell_type": "code",
   "execution_count": null,
   "id": "88a914d5-4cd4-4a5b-bada-5a2cc72c800f",
   "metadata": {},
   "outputs": [],
   "source": [
    "cv2.namedWindow('Road Image')\n",
    "cv2.setMouseCallback('Road Image' , mouse_callback)\n",
    "\n",
    "\n",
    "while True:\n",
    "    cv2.imshow('Watersehd Segments',segments)\n",
    "    cv2.imshow('Road Image', road_copy)\n",
    "\n",
    "\n",
    "\n",
    "    k = cv2.waitKey(1)\n",
    "\n",
    "    if k == 27:\n",
    "        break\n",
    "\n",
    "    elif k == ord('c'):\n",
    "        road_copy= road.copy()\n",
    "        marker_image = np.zeros(road.shape[:2],dtype=np.int32)\n",
    "        segments = np.zeros(road.shape,dtype=np.uint8)\n",
    "\n",
    "    elif k  > 0 and chr(k).isdigit():\n",
    "        current_marker = int(chr(k))\n",
    "\n",
    "    if marks_updated:\n",
    "\n",
    "\n",
    "        marker_image_copy = marker_image.copy()\n",
    "        cv2.watershed(road,marker_image_copy)\n",
    "        segments = np.zeros(road.shape , dtype=np.uint8)\n",
    "\n",
    "        for color_ind in range(n_markers):\n",
    "            segments[marker_image_copy == (color_ind)] = colors[color_ind]\n",
    "            \n",
    "\n",
    "\n",
    "cv2.destroyAllWindows"
   ]
  }
 ],
 "metadata": {
  "kernelspec": {
   "display_name": "Python 3 (ipykernel)",
   "language": "python",
   "name": "python3"
  },
  "language_info": {
   "codemirror_mode": {
    "name": "ipython",
    "version": 3
   },
   "file_extension": ".py",
   "mimetype": "text/x-python",
   "name": "python",
   "nbconvert_exporter": "python",
   "pygments_lexer": "ipython3",
   "version": "3.11.6"
  }
 },
 "nbformat": 4,
 "nbformat_minor": 5
}
